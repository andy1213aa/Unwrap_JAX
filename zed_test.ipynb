{
 "cells": [
  {
   "cell_type": "code",
   "execution_count": 1,
   "metadata": {},
   "outputs": [],
   "source": [
    "import pyzed.sl as sl\n",
    "import numpy as np\n",
    "import cv2"
   ]
  },
  {
   "cell_type": "code",
   "execution_count": 1,
   "metadata": {},
   "outputs": [],
   "source": [
    "\n",
    "\n",
    "# Create a ZED camera object\n",
    "zed = sl.Camera()\n",
    "\n",
    "# Set configuration parameters\n",
    "init_params = sl.InitParameters()\n",
    "init_params.camera_resolution = sl.RESOLUTION.HD1080\n",
    "init_params.camera_fps = 30\n"
   ]
  },
  {
   "cell_type": "code",
   "execution_count": 2,
   "metadata": {},
   "outputs": [],
   "source": [
    "# Open the camera\n",
    "err = zed.open(init_params)\n",
    "if err != sl.ERROR_CODE.SUCCESS:\n",
    "    exit()"
   ]
  },
  {
   "cell_type": "code",
   "execution_count": 3,
   "metadata": {},
   "outputs": [
    {
     "name": "stdout",
     "output_type": "stream",
     "text": [
      "Hello! This is my serial number: 36979282\n"
     ]
    }
   ],
   "source": [
    "# Get camera information (serial number)\n",
    "zed_serial = zed.get_camera_information().serial_number\n",
    "print(\"Hello! This is my serial number: {}\".format(zed_serial))"
   ]
  },
  {
   "cell_type": "code",
   "execution_count": 17,
   "metadata": {},
   "outputs": [
    {
     "name": "stdout",
     "output_type": "stream",
     "text": [
      "Image resolution: 1920 x 1080 || Image timestamp: 1688452521384\n",
      "\n",
      "Image resolution: 1920 x 1080 || Image timestamp: 1688452521418\n",
      "\n",
      "Image resolution: 1920 x 1080 || Image timestamp: 1688452521451\n",
      "\n",
      "Image resolution: 1920 x 1080 || Image timestamp: 1688452521485\n",
      "\n",
      "Image resolution: 1920 x 1080 || Image timestamp: 1688452521518\n",
      "\n",
      "Image resolution: 1920 x 1080 || Image timestamp: 1688452521552\n",
      "\n",
      "Image resolution: 1920 x 1080 || Image timestamp: 1688452521585\n",
      "\n",
      "Image resolution: 1920 x 1080 || Image timestamp: 1688452521619\n",
      "\n",
      "Image resolution: 1920 x 1080 || Image timestamp: 1688452521652\n",
      "\n",
      "Image resolution: 1920 x 1080 || Image timestamp: 1688452521685\n",
      "\n",
      "Image resolution: 1920 x 1080 || Image timestamp: 1688452521719\n",
      "\n",
      "Image resolution: 1920 x 1080 || Image timestamp: 1688452521752\n",
      "\n",
      "Image resolution: 1920 x 1080 || Image timestamp: 1688452521786\n",
      "\n",
      "Image resolution: 1920 x 1080 || Image timestamp: 1688452521819\n",
      "\n",
      "Image resolution: 1920 x 1080 || Image timestamp: 1688452521853\n",
      "\n",
      "Image resolution: 1920 x 1080 || Image timestamp: 1688452521886\n",
      "\n",
      "Image resolution: 1920 x 1080 || Image timestamp: 1688452521920\n",
      "\n",
      "Image resolution: 1920 x 1080 || Image timestamp: 1688452521953\n",
      "\n",
      "Image resolution: 1920 x 1080 || Image timestamp: 1688452521986\n",
      "\n",
      "Image resolution: 1920 x 1080 || Image timestamp: 1688452522020\n",
      "\n",
      "Image resolution: 1920 x 1080 || Image timestamp: 1688452522053\n",
      "\n",
      "Image resolution: 1920 x 1080 || Image timestamp: 1688452522087\n",
      "\n",
      "Image resolution: 1920 x 1080 || Image timestamp: 1688452522120\n",
      "\n",
      "Image resolution: 1920 x 1080 || Image timestamp: 1688452522154\n",
      "\n",
      "Image resolution: 1920 x 1080 || Image timestamp: 1688452522187\n",
      "\n",
      "Image resolution: 1920 x 1080 || Image timestamp: 1688452522221\n",
      "\n",
      "Image resolution: 1920 x 1080 || Image timestamp: 1688452522254\n",
      "\n",
      "Image resolution: 1920 x 1080 || Image timestamp: 1688452522288\n",
      "\n",
      "Image resolution: 1920 x 1080 || Image timestamp: 1688452522321\n",
      "\n",
      "Image resolution: 1920 x 1080 || Image timestamp: 1688452522355\n",
      "\n",
      "Image resolution: 1920 x 1080 || Image timestamp: 1688452522388\n",
      "\n",
      "Image resolution: 1920 x 1080 || Image timestamp: 1688452522421\n",
      "\n",
      "Image resolution: 1920 x 1080 || Image timestamp: 1688452522455\n",
      "\n",
      "Image resolution: 1920 x 1080 || Image timestamp: 1688452522488\n",
      "\n",
      "Image resolution: 1920 x 1080 || Image timestamp: 1688452522522\n",
      "\n",
      "Image resolution: 1920 x 1080 || Image timestamp: 1688452522555\n",
      "\n",
      "Image resolution: 1920 x 1080 || Image timestamp: 1688452522589\n",
      "\n",
      "Image resolution: 1920 x 1080 || Image timestamp: 1688452522622\n",
      "\n",
      "Image resolution: 1920 x 1080 || Image timestamp: 1688452522655\n",
      "\n",
      "Image resolution: 1920 x 1080 || Image timestamp: 1688452522689\n",
      "\n",
      "Image resolution: 1920 x 1080 || Image timestamp: 1688452522722\n",
      "\n",
      "Image resolution: 1920 x 1080 || Image timestamp: 1688452522756\n",
      "\n",
      "Image resolution: 1920 x 1080 || Image timestamp: 1688452522789\n",
      "\n",
      "Image resolution: 1920 x 1080 || Image timestamp: 1688452522823\n",
      "\n",
      "Image resolution: 1920 x 1080 || Image timestamp: 1688452522856\n",
      "\n",
      "Image resolution: 1920 x 1080 || Image timestamp: 1688452522890\n",
      "\n",
      "Image resolution: 1920 x 1080 || Image timestamp: 1688452522923\n",
      "\n",
      "Image resolution: 1920 x 1080 || Image timestamp: 1688452522957\n",
      "\n",
      "Image resolution: 1920 x 1080 || Image timestamp: 1688452522990\n",
      "\n",
      "Image resolution: 1920 x 1080 || Image timestamp: 1688452523024\n",
      "\n"
     ]
    }
   ],
   "source": [
    "# Capture 50 frames and stop\n",
    "i = 0\n",
    "image = sl.Mat()\n",
    "runtime_parameters = sl.RuntimeParameters()\n",
    "while i < 50:\n",
    "    # Grab an image, a RuntimeParameters object must be given to grab()\n",
    "    if zed.grab(runtime_parameters) == sl.ERROR_CODE.SUCCESS:\n",
    "        # A new image is available if grab() returns ERROR_CODE.SUCCESS\n",
    "        zed.retrieve_image(image, sl.VIEW.RIGHT) # Get the left image\n",
    "        timestamp = zed.get_timestamp(sl.TIME_REFERENCE.IMAGE)  # Get the image timestamp\n",
    "        print(\"Image resolution: {0} x {1} || Image timestamp: {2}\\n\".format(image.get_width(), image.get_height(), timestamp.get_milliseconds()))\n",
    "        i = i + 1\n"
   ]
  },
  {
   "cell_type": "code",
   "execution_count": 25,
   "metadata": {},
   "outputs": [],
   "source": [
    "# Close the camera\n",
    "zed.close()\n",
    "\n"
   ]
  },
  {
   "cell_type": "code",
   "execution_count": 18,
   "metadata": {},
   "outputs": [],
   "source": [
    "img = image.numpy()"
   ]
  },
  {
   "cell_type": "code",
   "execution_count": 19,
   "metadata": {},
   "outputs": [],
   "source": [
    "cv2.imshow('test', img[:, :, :3])\n",
    "cv2.waitKey(0)\n",
    "cv2.destroyAllWindows()"
   ]
  },
  {
   "cell_type": "code",
   "execution_count": 24,
   "metadata": {},
   "outputs": [
    {
     "name": "stdout",
     "output_type": "stream",
     "text": [
      "Only the path of the output SVO file should be passed as argument.\n",
      "CAMERA NOT DETECTED\n",
      "CAMERA NOT DETECTED\n",
      "SVO is Recording, use Ctrl-C to stop.\n"
     ]
    },
    {
     "ename": "SystemExit",
     "evalue": "0",
     "output_type": "error",
     "traceback": [
      "An exception has occurred, use %tb to see the full traceback.\n",
      "\u001b[0;31mSystemExit\u001b[0m\u001b[0;31m:\u001b[0m 0\n"
     ]
    },
    {
     "name": "stderr",
     "output_type": "stream",
     "text": [
      "/home/aaron/miniconda3/envs/mp/lib/python3.10/site-packages/IPython/core/interactiveshell.py:3468: UserWarning: To exit: use 'exit', 'quit', or Ctrl-D.\n",
      "  warn(\"To exit: use 'exit', 'quit', or Ctrl-D.\", stacklevel=1)\n"
     ]
    }
   ],
   "source": [
    "########################################################################\n",
    "#\n",
    "# Copyright (c) 2022, STEREOLABS.\n",
    "#\n",
    "# All rights reserved.\n",
    "#\n",
    "# THIS SOFTWARE IS PROVIDED BY THE COPYRIGHT HOLDERS AND CONTRIBUTORS\n",
    "# \"AS IS\" AND ANY EXPRESS OR IMPLIED WARRANTIES, INCLUDING, BUT NOT\n",
    "# LIMITED TO, THE IMPLIED WARRANTIES OF MERCHANTABILITY AND FITNESS FOR\n",
    "# A PARTICULAR PURPOSE ARE DISCLAIMED. IN NO EVENT SHALL THE COPYRIGHT\n",
    "# OWNER OR CONTRIBUTORS BE LIABLE FOR ANY DIRECT, INDIRECT, INCIDENTAL,\n",
    "# SPECIAL, EXEMPLARY, OR CONSEQUENTIAL DAMAGES (INCLUDING, BUT NOT\n",
    "# LIMITED TO, PROCUREMENT OF SUBSTITUTE GOODS OR SERVICES; LOSS OF USE,\n",
    "# DATA, OR PROFITS; OR BUSINESS INTERRUPTION) HOWEVER CAUSED AND ON ANY\n",
    "# THEORY OF LIABILITY, WHETHER IN CONTRACT, STRICT LIABILITY, OR TORT\n",
    "# (INCLUDING NEGLIGENCE OR OTHERWISE) ARISING IN ANY WAY OUT OF THE USE\n",
    "# OF THIS SOFTWARE, EVEN IF ADVISED OF THE POSSIBILITY OF SUCH DAMAGE.\n",
    "#\n",
    "########################################################################\n",
    "\n",
    "import sys\n",
    "import pyzed.sl as sl\n",
    "from signal import signal, SIGINT\n",
    "\n",
    "cam = sl.Camera()\n",
    "\n",
    "def handler(signal_received, frame):\n",
    "    cam.disable_recording()\n",
    "    cam.close()\n",
    "    sys.exit(0)\n",
    "\n",
    "signal(SIGINT, handler)\n",
    "\n",
    "def main():\n",
    "    if not sys.argv or len(sys.argv) != 2:\n",
    "        print(\"Only the path of the output SVO file should be passed as argument.\")\n",
    "        exit(1)\n",
    "\n",
    "    init = sl.InitParameters()\n",
    "    init.camera_resolution = sl.RESOLUTION.HD720\n",
    "    init.depth_mode = sl.DEPTH_MODE.NONE\n",
    "\n",
    "    status = cam.open(init)\n",
    "    if status != sl.ERROR_CODE.SUCCESS:\n",
    "        print(repr(status))\n",
    "        exit(1)\n",
    "\n",
    "    path_output = sys.argv[1]\n",
    "    recording_param = sl.RecordingParameters(path_output, sl.SVO_COMPRESSION_MODE.H264)\n",
    "    err = cam.enable_recording(recording_param)\n",
    "    if err != sl.ERROR_CODE.SUCCESS:\n",
    "        print(repr(status))\n",
    "        exit(1)\n",
    "\n",
    "    runtime = sl.RuntimeParameters()\n",
    "    print(\"SVO is Recording, use Ctrl-C to stop.\")\n",
    "    frames_recorded = 0\n",
    "\n",
    "    while True:\n",
    "        if cam.grab(runtime) == sl.ERROR_CODE.SUCCESS :\n",
    "            frames_recorded += 1\n",
    "            print(\"Frame count: \" + str(frames_recorded), end=\"\\r\")\n",
    "\n",
    "if __name__ == \"__main__\":\n",
    "    main()"
   ]
  },
  {
   "cell_type": "code",
   "execution_count": 8,
   "metadata": {},
   "outputs": [
    {
     "ename": "AttributeError",
     "evalue": "'pyzed.sl.CameraInformation' object has no attribute 'calibration_parameters'",
     "output_type": "error",
     "traceback": [
      "\u001b[0;31m---------------------------------------------------------------------------\u001b[0m",
      "\u001b[0;31mAttributeError\u001b[0m                            Traceback (most recent call last)",
      "Cell \u001b[0;32mIn[8], line 15\u001b[0m\n\u001b[1;32m     13\u001b[0m \u001b[39m# 获取相机参数\u001b[39;00m\n\u001b[1;32m     14\u001b[0m camera_info \u001b[39m=\u001b[39m zed\u001b[39m.\u001b[39mget_camera_information()\n\u001b[0;32m---> 15\u001b[0m rotation_matrix \u001b[39m=\u001b[39m np\u001b[39m.\u001b[39marray(camera_info\u001b[39m.\u001b[39;49mcalibration_parameters\u001b[39m.\u001b[39mR)\u001b[39m.\u001b[39mreshape(\u001b[39m3\u001b[39m, \u001b[39m3\u001b[39m)\n\u001b[1;32m     16\u001b[0m translation_vector \u001b[39m=\u001b[39m np\u001b[39m.\u001b[39marray(camera_info\u001b[39m.\u001b[39mcalibration_parameters\u001b[39m.\u001b[39mT)\u001b[39m.\u001b[39mreshape(\u001b[39m3\u001b[39m, \u001b[39m1\u001b[39m)\n\u001b[1;32m     17\u001b[0m extrinsic_matrix \u001b[39m=\u001b[39m np\u001b[39m.\u001b[39mconcatenate((rotation_matrix, translation_vector), axis\u001b[39m=\u001b[39m\u001b[39m1\u001b[39m)\n",
      "\u001b[0;31mAttributeError\u001b[0m: 'pyzed.sl.CameraInformation' object has no attribute 'calibration_parameters'"
     ]
    }
   ],
   "source": [
    "import pyzed.sl as sl\n",
    "import cv2\n",
    "import numpy as np\n",
    "\n",
    "# 创建ZED相机对象并初始化\n",
    "zed = sl.Camera()\n",
    "init_params = sl.InitParameters()\n",
    "err = zed.open(init_params)\n",
    "if err != sl.ERROR_CODE.SUCCESS:\n",
    "    print(\"Failed to open the camera\")\n",
    "    exit()\n",
    "\n",
    "# 获取相机参数\n",
    "camera_info = zed.get_camera_information()\n",
    "rotation_matrix = np.array(camera_info.calibration_parameters.R).reshape(3, 3)\n",
    "translation_vector = np.array(camera_info.calibration_parameters.T).reshape(3, 1)\n",
    "extrinsic_matrix = np.concatenate((rotation_matrix, translation_vector), axis=1)\n",
    "\n",
    "# 创建用于显示图像和外参矩阵的窗口\n",
    "cv2.namedWindow(\"ZED\", cv2.WINDOW_NORMAL)\n",
    "\n",
    "# 捕获图像并实时显示\n",
    "image = sl.Mat()\n",
    "while True:\n",
    "    # 捕获图像\n",
    "    if zed.grab() == sl.ERROR_CODE.SUCCESS:\n",
    "        zed.retrieve_image(image, sl.VIEW.LEFT)  # 获取左目图像\n",
    "\n",
    "        # 将ZED图像转换为OpenCV格式\n",
    "        image_ocv = image.get_data()\n",
    "\n",
    "        # 在图像上显示外参矩阵\n",
    "        for i in range(3):\n",
    "            cv2.putText(image_ocv, f\"R{i+1}:\", (10, 20 + i * 20), cv2.FONT_HERSHEY_SIMPLEX, 0.5, (255, 255, 255), 1, cv2.LINE_AA)\n",
    "            cv2.putText(image_ocv, f\"{extrinsic_matrix[i, 0]:.4f}\", (80, 20 + i * 20), cv2.FONT_HERSHEY_SIMPLEX, 0.5, (255, 255, 255), 1, cv2.LINE_AA)\n",
    "            cv2.putText(image_ocv, f\"{extrinsic_matrix[i, 1]:.4f}\", (150, 20 + i * 20), cv2.FONT_HERSHEY_SIMPLEX, 0.5, (255, 255, 255), 1, cv2.LINE_AA)\n",
    "            cv2.putText(image_ocv, f\"{extrinsic_matrix[i, 2]:.4f}\", (220, 20 + i * 20), cv2.FONT_HERSHEY_SIMPLEX, 0.5, (255, 255, 255), 1, cv2.LINE_AA)\n",
    "            cv2.putText(image_ocv, f\"{extrinsic_matrix[i, 3]:.4f}\", (290, 20 + i * 20), cv2.FONT_HERSHEY_SIMPLEX, 0.5, (255, 255, 255), 1, cv2.LINE_AA)\n",
    "\n",
    "        # 在窗口中显示图像\n",
    "        cv2.imshow(\"ZED\", image_ocv)\n",
    "\n",
    "    # 检测键盘输入，按下ESC键退出循环\n",
    "    key = cv2.waitKey(1)\n",
    "    if key == 27:\n",
    "        break\n",
    "\n",
    "# 释放资源并关闭相机\n",
    "zed.close()\n",
    "cv2.destroyAllWindows()"
   ]
  },
  {
   "cell_type": "code",
   "execution_count": 23,
   "metadata": {},
   "outputs": [
    {
     "data": {
      "text/plain": [
       "1280"
      ]
     },
     "execution_count": 23,
     "metadata": {},
     "output_type": "execute_result"
    }
   ],
   "source": [
    "camera_info.camera_configuration.resolution."
   ]
  },
  {
   "cell_type": "code",
   "execution_count": null,
   "metadata": {},
   "outputs": [],
   "source": []
  }
 ],
 "metadata": {
  "kernelspec": {
   "display_name": "mp",
   "language": "python",
   "name": "python3"
  },
  "language_info": {
   "codemirror_mode": {
    "name": "ipython",
    "version": 3
   },
   "file_extension": ".py",
   "mimetype": "text/x-python",
   "name": "python",
   "nbconvert_exporter": "python",
   "pygments_lexer": "ipython3",
   "version": "3.10.9"
  },
  "orig_nbformat": 4
 },
 "nbformat": 4,
 "nbformat_minor": 2
}
