{
 "cells": [
  {
   "cell_type": "code",
   "execution_count": 1,
   "metadata": {},
   "outputs": [],
   "source": [
    "import pyzed.sl as sl\n",
    "import numpy as np\n",
    "import cv2"
   ]
  },
  {
   "cell_type": "code",
   "execution_count": 2,
   "metadata": {},
   "outputs": [],
   "source": [
    "zed = sl.Camera()\n",
    "\n",
    "# 初始化ZED相机\n",
    "init_params = sl.InitParameters()\n",
    "init_params.camera_resolution = sl.RESOLUTION.HD1080\n",
    "init_params.camera_fps = 30\n",
    "\n",
    "\n",
    "status = zed.open(init_params)\n",
    "if status != sl.ERROR_CODE.SUCCESS:\n",
    "    print(f\"相机打开失败：{status}\")\n",
    "\n",
    "runtime = sl.RuntimeParameters()\n",
    "\n",
    "# 获取相机信息\n",
    "camera_info = zed.get_camera_information()"
   ]
  },
  {
   "cell_type": "code",
   "execution_count": 4,
   "metadata": {},
   "outputs": [
    {
     "data": {
      "text/plain": [
       "1920"
      ]
     },
     "execution_count": 4,
     "metadata": {},
     "output_type": "execute_result"
    }
   ],
   "source": [
    "camera_info.camera_configuration.resolution.width"
   ]
  },
  {
   "cell_type": "code",
   "execution_count": 3,
   "metadata": {},
   "outputs": [],
   "source": [
    "\n",
    "\n",
    "# Create a ZED camera object\n",
    "zed = sl.Camera()\n",
    "\n",
    "# Set configuration parameters\n",
    "init_params = sl.InitParameters()\n",
    "init_params.camera_resolution = sl.RESOLUTION.HD1080\n",
    "init_params.camera_fps = 30\n"
   ]
  },
  {
   "cell_type": "code",
   "execution_count": 4,
   "metadata": {},
   "outputs": [],
   "source": [
    "# Open the camera\n",
    "err = zed.open(init_params)\n",
    "if err != sl.ERROR_CODE.SUCCESS:\n",
    "    exit()"
   ]
  },
  {
   "cell_type": "code",
   "execution_count": 5,
   "metadata": {},
   "outputs": [
    {
     "name": "stdout",
     "output_type": "stream",
     "text": [
      "Hello! This is my serial number: 36979282\n"
     ]
    }
   ],
   "source": [
    "# Get camera information (serial number)\n",
    "zed_serial = zed.get_camera_information().serial_number\n",
    "print(\"Hello! This is my serial number: {}\".format(zed_serial))"
   ]
  },
  {
   "cell_type": "code",
   "execution_count": 17,
   "metadata": {},
   "outputs": [
    {
     "name": "stdout",
     "output_type": "stream",
     "text": [
      "Image resolution: 1920 x 1080 || Image timestamp: 1688452521384\n",
      "\n",
      "Image resolution: 1920 x 1080 || Image timestamp: 1688452521418\n",
      "\n",
      "Image resolution: 1920 x 1080 || Image timestamp: 1688452521451\n",
      "\n",
      "Image resolution: 1920 x 1080 || Image timestamp: 1688452521485\n",
      "\n",
      "Image resolution: 1920 x 1080 || Image timestamp: 1688452521518\n",
      "\n",
      "Image resolution: 1920 x 1080 || Image timestamp: 1688452521552\n",
      "\n",
      "Image resolution: 1920 x 1080 || Image timestamp: 1688452521585\n",
      "\n",
      "Image resolution: 1920 x 1080 || Image timestamp: 1688452521619\n",
      "\n",
      "Image resolution: 1920 x 1080 || Image timestamp: 1688452521652\n",
      "\n",
      "Image resolution: 1920 x 1080 || Image timestamp: 1688452521685\n",
      "\n",
      "Image resolution: 1920 x 1080 || Image timestamp: 1688452521719\n",
      "\n",
      "Image resolution: 1920 x 1080 || Image timestamp: 1688452521752\n",
      "\n",
      "Image resolution: 1920 x 1080 || Image timestamp: 1688452521786\n",
      "\n",
      "Image resolution: 1920 x 1080 || Image timestamp: 1688452521819\n",
      "\n",
      "Image resolution: 1920 x 1080 || Image timestamp: 1688452521853\n",
      "\n",
      "Image resolution: 1920 x 1080 || Image timestamp: 1688452521886\n",
      "\n",
      "Image resolution: 1920 x 1080 || Image timestamp: 1688452521920\n",
      "\n",
      "Image resolution: 1920 x 1080 || Image timestamp: 1688452521953\n",
      "\n",
      "Image resolution: 1920 x 1080 || Image timestamp: 1688452521986\n",
      "\n",
      "Image resolution: 1920 x 1080 || Image timestamp: 1688452522020\n",
      "\n",
      "Image resolution: 1920 x 1080 || Image timestamp: 1688452522053\n",
      "\n",
      "Image resolution: 1920 x 1080 || Image timestamp: 1688452522087\n",
      "\n",
      "Image resolution: 1920 x 1080 || Image timestamp: 1688452522120\n",
      "\n",
      "Image resolution: 1920 x 1080 || Image timestamp: 1688452522154\n",
      "\n",
      "Image resolution: 1920 x 1080 || Image timestamp: 1688452522187\n",
      "\n",
      "Image resolution: 1920 x 1080 || Image timestamp: 1688452522221\n",
      "\n",
      "Image resolution: 1920 x 1080 || Image timestamp: 1688452522254\n",
      "\n",
      "Image resolution: 1920 x 1080 || Image timestamp: 1688452522288\n",
      "\n",
      "Image resolution: 1920 x 1080 || Image timestamp: 1688452522321\n",
      "\n",
      "Image resolution: 1920 x 1080 || Image timestamp: 1688452522355\n",
      "\n",
      "Image resolution: 1920 x 1080 || Image timestamp: 1688452522388\n",
      "\n",
      "Image resolution: 1920 x 1080 || Image timestamp: 1688452522421\n",
      "\n",
      "Image resolution: 1920 x 1080 || Image timestamp: 1688452522455\n",
      "\n",
      "Image resolution: 1920 x 1080 || Image timestamp: 1688452522488\n",
      "\n",
      "Image resolution: 1920 x 1080 || Image timestamp: 1688452522522\n",
      "\n",
      "Image resolution: 1920 x 1080 || Image timestamp: 1688452522555\n",
      "\n",
      "Image resolution: 1920 x 1080 || Image timestamp: 1688452522589\n",
      "\n",
      "Image resolution: 1920 x 1080 || Image timestamp: 1688452522622\n",
      "\n",
      "Image resolution: 1920 x 1080 || Image timestamp: 1688452522655\n",
      "\n",
      "Image resolution: 1920 x 1080 || Image timestamp: 1688452522689\n",
      "\n",
      "Image resolution: 1920 x 1080 || Image timestamp: 1688452522722\n",
      "\n",
      "Image resolution: 1920 x 1080 || Image timestamp: 1688452522756\n",
      "\n",
      "Image resolution: 1920 x 1080 || Image timestamp: 1688452522789\n",
      "\n",
      "Image resolution: 1920 x 1080 || Image timestamp: 1688452522823\n",
      "\n",
      "Image resolution: 1920 x 1080 || Image timestamp: 1688452522856\n",
      "\n",
      "Image resolution: 1920 x 1080 || Image timestamp: 1688452522890\n",
      "\n",
      "Image resolution: 1920 x 1080 || Image timestamp: 1688452522923\n",
      "\n",
      "Image resolution: 1920 x 1080 || Image timestamp: 1688452522957\n",
      "\n",
      "Image resolution: 1920 x 1080 || Image timestamp: 1688452522990\n",
      "\n",
      "Image resolution: 1920 x 1080 || Image timestamp: 1688452523024\n",
      "\n"
     ]
    }
   ],
   "source": [
    "# Capture 50 frames and stop\n",
    "i = 0\n",
    "image = sl.Mat()\n",
    "runtime_parameters = sl.RuntimeParameters()\n",
    "while i < 50:\n",
    "    # Grab an image, a RuntimeParameters object must be given to grab()\n",
    "    if zed.grab(runtime_parameters) == sl.ERROR_CODE.SUCCESS:\n",
    "        # A new image is available if grab() returns ERROR_CODE.SUCCESS\n",
    "        zed.retrieve_image(image, sl.VIEW.RIGHT) # Get the left image\n",
    "        timestamp = zed.get_timestamp(sl.TIME_REFERENCE.IMAGE)  # Get the image timestamp\n",
    "        print(\"Image resolution: {0} x {1} || Image timestamp: {2}\\n\".format(image.get_width(), image.get_height(), timestamp.get_milliseconds()))\n",
    "        i = i + 1\n"
   ]
  },
  {
   "cell_type": "code",
   "execution_count": 5,
   "metadata": {},
   "outputs": [],
   "source": [
    "# Close the camera\n",
    "zed.close()\n",
    "\n"
   ]
  },
  {
   "cell_type": "code",
   "execution_count": 18,
   "metadata": {},
   "outputs": [],
   "source": [
    "img = image.numpy()"
   ]
  },
  {
   "cell_type": "code",
   "execution_count": 19,
   "metadata": {},
   "outputs": [],
   "source": [
    "cv2.imshow('test', img[:, :, :3])\n",
    "cv2.waitKey(0)\n",
    "cv2.destroyAllWindows()"
   ]
  },
  {
   "cell_type": "code",
   "execution_count": 24,
   "metadata": {},
   "outputs": [
    {
     "name": "stdout",
     "output_type": "stream",
     "text": [
      "Only the path of the output SVO file should be passed as argument.\n",
      "CAMERA NOT DETECTED\n",
      "CAMERA NOT DETECTED\n",
      "SVO is Recording, use Ctrl-C to stop.\n"
     ]
    },
    {
     "ename": "SystemExit",
     "evalue": "0",
     "output_type": "error",
     "traceback": [
      "An exception has occurred, use %tb to see the full traceback.\n",
      "\u001b[0;31mSystemExit\u001b[0m\u001b[0;31m:\u001b[0m 0\n"
     ]
    },
    {
     "name": "stderr",
     "output_type": "stream",
     "text": [
      "/home/aaron/miniconda3/envs/mp/lib/python3.10/site-packages/IPython/core/interactiveshell.py:3468: UserWarning: To exit: use 'exit', 'quit', or Ctrl-D.\n",
      "  warn(\"To exit: use 'exit', 'quit', or Ctrl-D.\", stacklevel=1)\n"
     ]
    }
   ],
   "source": [
    "########################################################################\n",
    "#\n",
    "# Copyright (c) 2022, STEREOLABS.\n",
    "#\n",
    "# All rights reserved.\n",
    "#\n",
    "# THIS SOFTWARE IS PROVIDED BY THE COPYRIGHT HOLDERS AND CONTRIBUTORS\n",
    "# \"AS IS\" AND ANY EXPRESS OR IMPLIED WARRANTIES, INCLUDING, BUT NOT\n",
    "# LIMITED TO, THE IMPLIED WARRANTIES OF MERCHANTABILITY AND FITNESS FOR\n",
    "# A PARTICULAR PURPOSE ARE DISCLAIMED. IN NO EVENT SHALL THE COPYRIGHT\n",
    "# OWNER OR CONTRIBUTORS BE LIABLE FOR ANY DIRECT, INDIRECT, INCIDENTAL,\n",
    "# SPECIAL, EXEMPLARY, OR CONSEQUENTIAL DAMAGES (INCLUDING, BUT NOT\n",
    "# LIMITED TO, PROCUREMENT OF SUBSTITUTE GOODS OR SERVICES; LOSS OF USE,\n",
    "# DATA, OR PROFITS; OR BUSINESS INTERRUPTION) HOWEVER CAUSED AND ON ANY\n",
    "# THEORY OF LIABILITY, WHETHER IN CONTRACT, STRICT LIABILITY, OR TORT\n",
    "# (INCLUDING NEGLIGENCE OR OTHERWISE) ARISING IN ANY WAY OUT OF THE USE\n",
    "# OF THIS SOFTWARE, EVEN IF ADVISED OF THE POSSIBILITY OF SUCH DAMAGE.\n",
    "#\n",
    "########################################################################\n",
    "\n",
    "import sys\n",
    "import pyzed.sl as sl\n",
    "from signal import signal, SIGINT\n",
    "\n",
    "cam = sl.Camera()\n",
    "\n",
    "def handler(signal_received, frame):\n",
    "    cam.disable_recording()\n",
    "    cam.close()\n",
    "    sys.exit(0)\n",
    "\n",
    "signal(SIGINT, handler)\n",
    "\n",
    "def main():\n",
    "    if not sys.argv or len(sys.argv) != 2:\n",
    "        print(\"Only the path of the output SVO file should be passed as argument.\")\n",
    "        exit(1)\n",
    "\n",
    "    init = sl.InitParameters()\n",
    "    init.camera_resolution = sl.RESOLUTION.HD720\n",
    "    init.depth_mode = sl.DEPTH_MODE.NONE\n",
    "\n",
    "    status = cam.open(init)\n",
    "    if status != sl.ERROR_CODE.SUCCESS:\n",
    "        print(repr(status))\n",
    "        exit(1)\n",
    "\n",
    "    path_output = sys.argv[1]\n",
    "    recording_param = sl.RecordingParameters(path_output, sl.SVO_COMPRESSION_MODE.H264)\n",
    "    err = cam.enable_recording(recording_param)\n",
    "    if err != sl.ERROR_CODE.SUCCESS:\n",
    "        print(repr(status))\n",
    "        exit(1)\n",
    "\n",
    "    runtime = sl.RuntimeParameters()\n",
    "    print(\"SVO is Recording, use Ctrl-C to stop.\")\n",
    "    frames_recorded = 0\n",
    "\n",
    "    while True:\n",
    "        if cam.grab(runtime) == sl.ERROR_CODE.SUCCESS :\n",
    "            frames_recorded += 1\n",
    "            print(\"Frame count: \" + str(frames_recorded), end=\"\\r\")\n",
    "\n",
    "if __name__ == \"__main__\":\n",
    "    main()"
   ]
  },
  {
   "cell_type": "code",
   "execution_count": 2,
   "metadata": {},
   "outputs": [
    {
     "ename": "AttributeError",
     "evalue": "'pyzed.sl.CameraInformation' object has no attribute 'calibration_parameters'",
     "output_type": "error",
     "traceback": [
      "\u001b[0;31m---------------------------------------------------------------------------\u001b[0m",
      "\u001b[0;31mAttributeError\u001b[0m                            Traceback (most recent call last)",
      "Cell \u001b[0;32mIn[2], line 15\u001b[0m\n\u001b[1;32m     13\u001b[0m \u001b[39m# 获取相机参数\u001b[39;00m\n\u001b[1;32m     14\u001b[0m camera_info \u001b[39m=\u001b[39m zed\u001b[39m.\u001b[39mget_camera_information()\n\u001b[0;32m---> 15\u001b[0m rotation_matrix \u001b[39m=\u001b[39m np\u001b[39m.\u001b[39marray(camera_info\u001b[39m.\u001b[39;49mcalibration_parameters\u001b[39m.\u001b[39mR)\u001b[39m.\u001b[39mreshape(\u001b[39m3\u001b[39m, \u001b[39m3\u001b[39m)\n\u001b[1;32m     16\u001b[0m translation_vector \u001b[39m=\u001b[39m np\u001b[39m.\u001b[39marray(camera_info\u001b[39m.\u001b[39mcalibration_parameters\u001b[39m.\u001b[39mT)\u001b[39m.\u001b[39mreshape(\u001b[39m3\u001b[39m, \u001b[39m1\u001b[39m)\n\u001b[1;32m     17\u001b[0m extrinsic_matrix \u001b[39m=\u001b[39m np\u001b[39m.\u001b[39mconcatenate((rotation_matrix, translation_vector), axis\u001b[39m=\u001b[39m\u001b[39m1\u001b[39m)\n",
      "\u001b[0;31mAttributeError\u001b[0m: 'pyzed.sl.CameraInformation' object has no attribute 'calibration_parameters'"
     ]
    }
   ],
   "source": [
    "import pyzed.sl as sl\n",
    "import cv2\n",
    "import numpy as np\n",
    "\n",
    "# 创建ZED相机对象并初始化\n",
    "zed = sl.Camera()\n",
    "init_params = sl.InitParameters()\n",
    "err = zed.open(init_params)\n",
    "if err != sl.ERROR_CODE.SUCCESS:\n",
    "    print(\"Failed to open the camera\")\n",
    "    exit()\n",
    "\n",
    "# 获取相机参数\n",
    "camera_info = zed.get_camera_information()\n",
    "rotation_matrix = np.array(camera_info.calibration_parameters.R).reshape(3, 3)\n",
    "translation_vector = np.array(camera_info.calibration_parameters.T).reshape(3, 1)\n",
    "extrinsic_matrix = np.concatenate((rotation_matrix, translation_vector), axis=1)\n",
    "\n",
    "# 创建用于显示图像和外参矩阵的窗口\n",
    "cv2.namedWindow(\"ZED\", cv2.WINDOW_NORMAL)\n",
    "\n",
    "# 捕获图像并实时显示\n",
    "image = sl.Mat()\n",
    "while True:\n",
    "    # 捕获图像\n",
    "    if zed.grab() == sl.ERROR_CODE.SUCCESS:\n",
    "        zed.retrieve_image(image, sl.VIEW.LEFT)  # 获取左目图像\n",
    "\n",
    "        # 将ZED图像转换为OpenCV格式\n",
    "        image_ocv = image.get_data()\n",
    "\n",
    "        # 在图像上显示外参矩阵\n",
    "        for i in range(3):\n",
    "            cv2.putText(image_ocv, f\"R{i+1}:\", (10, 20 + i * 20), cv2.FONT_HERSHEY_SIMPLEX, 0.5, (255, 255, 255), 1, cv2.LINE_AA)\n",
    "            cv2.putText(image_ocv, f\"{extrinsic_matrix[i, 0]:.4f}\", (80, 20 + i * 20), cv2.FONT_HERSHEY_SIMPLEX, 0.5, (255, 255, 255), 1, cv2.LINE_AA)\n",
    "            cv2.putText(image_ocv, f\"{extrinsic_matrix[i, 1]:.4f}\", (150, 20 + i * 20), cv2.FONT_HERSHEY_SIMPLEX, 0.5, (255, 255, 255), 1, cv2.LINE_AA)\n",
    "            cv2.putText(image_ocv, f\"{extrinsic_matrix[i, 2]:.4f}\", (220, 20 + i * 20), cv2.FONT_HERSHEY_SIMPLEX, 0.5, (255, 255, 255), 1, cv2.LINE_AA)\n",
    "            cv2.putText(image_ocv, f\"{extrinsic_matrix[i, 3]:.4f}\", (290, 20 + i * 20), cv2.FONT_HERSHEY_SIMPLEX, 0.5, (255, 255, 255), 1, cv2.LINE_AA)\n",
    "\n",
    "        # 在窗口中显示图像\n",
    "        cv2.imshow(\"ZED\", image_ocv)\n",
    "\n",
    "    # 检测键盘输入，按下ESC键退出循环\n",
    "    key = cv2.waitKey(1)\n",
    "    if key == 27:\n",
    "        break\n",
    "\n",
    "# 释放资源并关闭相机\n",
    "zed.close()\n",
    "cv2.destroyAllWindows()"
   ]
  },
  {
   "cell_type": "code",
   "execution_count": 2,
   "metadata": {},
   "outputs": [
    {
     "ename": "AttributeError",
     "evalue": "POSE",
     "output_type": "error",
     "traceback": [
      "\u001b[0;31m---------------------------------------------------------------------------\u001b[0m",
      "\u001b[0;31mAttributeError\u001b[0m                            Traceback (most recent call last)",
      "Cell \u001b[0;32mIn[2], line 44\u001b[0m\n\u001b[1;32m     41\u001b[0m     zed\u001b[39m.\u001b[39mclose()\n\u001b[1;32m     43\u001b[0m \u001b[39mif\u001b[39;00m \u001b[39m__name__\u001b[39m \u001b[39m==\u001b[39m \u001b[39m\"\u001b[39m\u001b[39m__main__\u001b[39m\u001b[39m\"\u001b[39m:\n\u001b[0;32m---> 44\u001b[0m     main()\n",
      "Cell \u001b[0;32mIn[2], line 28\u001b[0m, in \u001b[0;36mmain\u001b[0;34m()\u001b[0m\n\u001b[1;32m     25\u001b[0m \u001b[39mif\u001b[39;00m zed\u001b[39m.\u001b[39mgrab(runtime_params) \u001b[39m==\u001b[39m sl\u001b[39m.\u001b[39mERROR_CODE\u001b[39m.\u001b[39mSUCCESS:\n\u001b[1;32m     26\u001b[0m     \u001b[39m# 獲取姿態信息\u001b[39;00m\n\u001b[1;32m     27\u001b[0m     zed\u001b[39m.\u001b[39mretrieve_image(mat, sl\u001b[39m.\u001b[39mVIEW\u001b[39m.\u001b[39mLEFT)\n\u001b[0;32m---> 28\u001b[0m     zed\u001b[39m.\u001b[39mretrieve_measure(pose, sl\u001b[39m.\u001b[39;49mMEASURE\u001b[39m.\u001b[39;49mPOSE)\n\u001b[1;32m     30\u001b[0m     \u001b[39m# 獲取旋轉和平移資訊\u001b[39;00m\n\u001b[1;32m     31\u001b[0m     rotation \u001b[39m=\u001b[39m pose\u001b[39m.\u001b[39mget_rotation_matrix()\n",
      "File \u001b[0;32m~/miniconda3/envs/mp/lib/python3.10/enum.py:437\u001b[0m, in \u001b[0;36mEnumMeta.__getattr__\u001b[0;34m(cls, name)\u001b[0m\n\u001b[1;32m    435\u001b[0m     \u001b[39mreturn\u001b[39;00m \u001b[39mcls\u001b[39m\u001b[39m.\u001b[39m_member_map_[name]\n\u001b[1;32m    436\u001b[0m \u001b[39mexcept\u001b[39;00m \u001b[39mKeyError\u001b[39;00m:\n\u001b[0;32m--> 437\u001b[0m     \u001b[39mraise\u001b[39;00m \u001b[39mAttributeError\u001b[39;00m(name) \u001b[39mfrom\u001b[39;00m \u001b[39mNone\u001b[39m\n",
      "\u001b[0;31mAttributeError\u001b[0m: POSE"
     ]
    }
   ],
   "source": [
    "import pyzed.sl as sl\n",
    "\n",
    "def main():\n",
    "    # 初始化ZED相機\n",
    "    zed = sl.Camera()\n",
    "\n",
    "    # 設置相機配置\n",
    "    init_params = sl.InitParameters()\n",
    "    init_params.camera_resolution = sl.RESOLUTION.HD1080\n",
    "    init_params.camera_fps = 30\n",
    "\n",
    "    # 開啟相機\n",
    "    err = zed.open(init_params)\n",
    "    if err != sl.ERROR_CODE.SUCCESS:\n",
    "        print(f\"相機無法開啟: {err}\")\n",
    "        exit()\n",
    "\n",
    "    # 持續讀取相機數據\n",
    "    runtime_params = sl.RuntimeParameters()\n",
    "    mat = sl.Mat()\n",
    "    pose = sl.Pose()\n",
    "\n",
    "    while True:\n",
    "        # 擷取一幀影像\n",
    "        if zed.grab(runtime_params) == sl.ERROR_CODE.SUCCESS:\n",
    "            # 獲取姿態信息\n",
    "            zed.retrieve_image(mat, sl.VIEW.LEFT)\n",
    "            zed.retrieve_measure(pose, sl.MEASURE.POSE)\n",
    "\n",
    "            # 獲取旋轉和平移資訊\n",
    "            rotation = pose.get_rotation_matrix()\n",
    "            translation = pose.get_translation()\n",
    "\n",
    "            # 輸出旋轉和平移資訊\n",
    "            print(\"旋轉矩陣:\")\n",
    "            print(rotation)\n",
    "            print(\"平移向量:\")\n",
    "            print(translation)\n",
    "\n",
    "    # 關閉相機\n",
    "    zed.close()\n",
    "\n",
    "if __name__ == \"__main__\":\n",
    "    main()"
   ]
  },
  {
   "cell_type": "code",
   "execution_count": 1,
   "metadata": {},
   "outputs": [
    {
     "ename": "NameError",
     "evalue": "name 'zed' is not defined",
     "output_type": "error",
     "traceback": [
      "\u001b[0;31m---------------------------------------------------------------------------\u001b[0m",
      "\u001b[0;31mNameError\u001b[0m                                 Traceback (most recent call last)",
      "Cell \u001b[0;32mIn[1], line 1\u001b[0m\n\u001b[0;32m----> 1\u001b[0m zed\u001b[39m.\u001b[39mclose()\n",
      "\u001b[0;31mNameError\u001b[0m: name 'zed' is not defined"
     ]
    }
   ],
   "source": [
    "zed.close()"
   ]
  },
  {
   "cell_type": "code",
   "execution_count": 3,
   "metadata": {},
   "outputs": [
    {
     "name": "stdout",
     "output_type": "stream",
     "text": [
      "相機無法開啟: CAMERA NOT DETECTED\n"
     ]
    },
    {
     "ename": "AttributeError",
     "evalue": "'pyzed.sl.CameraInformation' object has no attribute 'camera_resolution'",
     "output_type": "error",
     "traceback": [
      "\u001b[0;31m---------------------------------------------------------------------------\u001b[0m",
      "\u001b[0;31mAttributeError\u001b[0m                            Traceback (most recent call last)",
      "Cell \u001b[0;32mIn[3], line 55\u001b[0m\n\u001b[1;32m     52\u001b[0m     cv2\u001b[39m.\u001b[39mdestroyAllWindows()\n\u001b[1;32m     54\u001b[0m \u001b[39mif\u001b[39;00m \u001b[39m__name__\u001b[39m \u001b[39m==\u001b[39m \u001b[39m\"\u001b[39m\u001b[39m__main__\u001b[39m\u001b[39m\"\u001b[39m:\n\u001b[0;32m---> 55\u001b[0m     main()\n",
      "Cell \u001b[0;32mIn[3], line 28\u001b[0m, in \u001b[0;36mmain\u001b[0;34m()\u001b[0m\n\u001b[1;32m     26\u001b[0m runtime_params \u001b[39m=\u001b[39m sl\u001b[39m.\u001b[39mRuntimeParameters()\n\u001b[1;32m     27\u001b[0m mat \u001b[39m=\u001b[39m sl\u001b[39m.\u001b[39mMat()\n\u001b[0;32m---> 28\u001b[0m image_size \u001b[39m=\u001b[39m (camera_info\u001b[39m.\u001b[39;49mcamera_resolution\u001b[39m.\u001b[39mwidth, camera_info\u001b[39m.\u001b[39mcamera_resolution\u001b[39m.\u001b[39mheight)\n\u001b[1;32m     30\u001b[0m \u001b[39mwhile\u001b[39;00m \u001b[39mTrue\u001b[39;00m:\n\u001b[1;32m     31\u001b[0m     \u001b[39m# 擷取一幀影像\u001b[39;00m\n\u001b[1;32m     32\u001b[0m     \u001b[39mif\u001b[39;00m zed\u001b[39m.\u001b[39mgrab(runtime_params) \u001b[39m==\u001b[39m sl\u001b[39m.\u001b[39mERROR_CODE\u001b[39m.\u001b[39mSUCCESS:\n\u001b[1;32m     33\u001b[0m         \u001b[39m# 獲取影像\u001b[39;00m\n",
      "\u001b[0;31mAttributeError\u001b[0m: 'pyzed.sl.CameraInformation' object has no attribute 'camera_resolution'"
     ]
    },
    {
     "ename": "",
     "evalue": "",
     "output_type": "error",
     "traceback": [
      "\u001b[1;31mThe Kernel crashed while executing code in the the current cell or a previous cell. Please review the code in the cell(s) to identify a possible cause of the failure. Click <a href='https://aka.ms/vscodeJupyterKernelCrash'>here</a> for more info. View Jupyter <a href='command:jupyter.viewOutput'>log</a> for further details."
     ]
    }
   ],
   "source": [
    "import pyzed.sl as sl\n",
    "import cv2\n",
    "\n",
    "def main():\n",
    "    # 初始化ZED相機\n",
    "    zed = sl.Camera()\n",
    "\n",
    "    # 設置相機配置\n",
    "    init_params = sl.InitParameters()\n",
    "    init_params.camera_resolution = sl.RESOLUTION.HD1080\n",
    "    init_params.camera_fps = 30\n",
    "\n",
    "    # 開啟相機\n",
    "    err = zed.open(init_params)\n",
    "    if err != sl.ERROR_CODE.SUCCESS:\n",
    "        print(f\"相機無法開啟: {err}\")\n",
    "        exit()\n",
    "\n",
    "    # 獲取相機內部參數\n",
    "    camera_info = zed.get_camera_information()\n",
    "\n",
    "    # 創建OpenCV視窗\n",
    "    cv2.namedWindow(\"ZED\", cv2.WINDOW_NORMAL)\n",
    "\n",
    "    # 持續讀取相機數據\n",
    "    runtime_params = sl.RuntimeParameters()\n",
    "    mat = sl.Mat()\n",
    "    image_size = (camera_info.camera_resolution.width, camera_info.camera_resolution.height)\n",
    "\n",
    "    while True:\n",
    "        # 擷取一幀影像\n",
    "        if zed.grab(runtime_params) == sl.ERROR_CODE.SUCCESS:\n",
    "            # 獲取影像\n",
    "            zed.retrieve_image(mat, sl.VIEW.LEFT)\n",
    "            frame = mat.get_data()\n",
    "\n",
    "            # 轉換影像格式\n",
    "            frame = cv2.cvtColor(frame, cv2.COLOR_BGR2RGB)\n",
    "\n",
    "            # 顯示影像\n",
    "            cv2.imshow(\"ZED\", frame)\n",
    "\n",
    "        # 檢查按鍵輸入\n",
    "        key = cv2.waitKey(1)\n",
    "        if key == ord(\"q\"):\n",
    "            break\n",
    "\n",
    "    # 關閉相機\n",
    "    zed.close()\n",
    "\n",
    "    # 關閉OpenCV視窗\n",
    "    cv2.destroyAllWindows()\n",
    "\n",
    "if __name__ == \"__main__\":\n",
    "    main()"
   ]
  },
  {
   "cell_type": "code",
   "execution_count": null,
   "metadata": {},
   "outputs": [],
   "source": []
  }
 ],
 "metadata": {
  "kernelspec": {
   "display_name": "mp",
   "language": "python",
   "name": "python3"
  },
  "language_info": {
   "codemirror_mode": {
    "name": "ipython",
    "version": 3
   },
   "file_extension": ".py",
   "mimetype": "text/x-python",
   "name": "python",
   "nbconvert_exporter": "python",
   "pygments_lexer": "ipython3",
   "version": "3.10.9"
  },
  "orig_nbformat": 4
 },
 "nbformat": 4,
 "nbformat_minor": 2
}
